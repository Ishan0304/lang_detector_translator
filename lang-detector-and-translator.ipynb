{
 "cells": [
  {
   "cell_type": "code",
   "execution_count": 1,
   "id": "noble-purple",
   "metadata": {
    "_cell_guid": "b1076dfc-b9ad-4769-8c92-a6c4dae69d19",
    "_uuid": "8f2839f25d086af736a60e9eeb907d3b93b6e0e5",
    "execution": {
     "iopub.execute_input": "2021-05-31T01:06:46.020179Z",
     "iopub.status.busy": "2021-05-31T01:06:46.019485Z",
     "iopub.status.idle": "2021-05-31T01:06:46.022263Z",
     "shell.execute_reply": "2021-05-31T01:06:46.022760Z",
     "shell.execute_reply.started": "2021-05-31T00:36:54.627609Z"
    },
    "papermill": {
     "duration": 0.020785,
     "end_time": "2021-05-31T01:06:46.023071",
     "exception": false,
     "start_time": "2021-05-31T01:06:46.002286",
     "status": "completed"
    },
    "tags": []
   },
   "outputs": [],
   "source": [
    "# This Python 3 environment comes with many helpful analytics libraries installed\n",
    "# It is defined by the kaggle/python Docker image: https://github.com/kaggle/docker-python\n",
    "# For example, here's several helpful packages to load\n",
    "\n",
    "import numpy as np # linear algebra\n",
    "import pandas as pd # data processing, CSV file I/O (e.g. pd.read_csv)\n",
    "\n",
    "# Input data files are available in the read-only \"../input/\" directory\n",
    "# For example, running this (by clicking run or pressing Shift+Enter) will list all files under the input directory\n",
    "\n",
    "import os\n",
    "for dirname, _, filenames in os.walk('/kaggle/input'):\n",
    "    for filename in filenames:\n",
    "        print(os.path.join(dirname, filename))\n",
    "\n",
    "# You can write up to 20GB to the current directory (/kaggle/working/) that gets preserved as output when you create a version using \"Save & Run All\" \n",
    "# You can also write temporary files to /kaggle/temp/, but they won't be saved outside of the current session"
   ]
  },
  {
   "cell_type": "code",
   "execution_count": 2,
   "id": "express-acoustic",
   "metadata": {
    "execution": {
     "iopub.execute_input": "2021-05-31T01:06:46.046447Z",
     "iopub.status.busy": "2021-05-31T01:06:46.045660Z",
     "iopub.status.idle": "2021-05-31T01:06:56.982575Z",
     "shell.execute_reply": "2021-05-31T01:06:56.983473Z",
     "shell.execute_reply.started": "2021-05-31T00:37:06.132484Z"
    },
    "papermill": {
     "duration": 10.95133,
     "end_time": "2021-05-31T01:06:56.983719",
     "exception": false,
     "start_time": "2021-05-31T01:06:46.032389",
     "status": "completed"
    },
    "tags": []
   },
   "outputs": [
    {
     "name": "stdout",
     "output_type": "stream",
     "text": [
      "Collecting langdetect\r\n",
      "  Downloading langdetect-1.0.9.tar.gz (981 kB)\r\n",
      "\u001b[K     |████████████████████████████████| 981 kB 1.3 MB/s \r\n",
      "\u001b[?25hRequirement already satisfied: six in /opt/conda/lib/python3.7/site-packages (from langdetect) (1.15.0)\r\n",
      "Building wheels for collected packages: langdetect\r\n",
      "  Building wheel for langdetect (setup.py) ... \u001b[?25l-\b \b\\\b \b|\b \b/\b \bdone\r\n",
      "\u001b[?25h  Created wheel for langdetect: filename=langdetect-1.0.9-py3-none-any.whl size=993221 sha256=6c98ab5167aff2e79e1cee81e74c4de631d796fa5aefad02656e7c2898e1942b\r\n",
      "  Stored in directory: /root/.cache/pip/wheels/c5/96/8a/f90c59ed25d75e50a8c10a1b1c2d4c402e4dacfa87f3aff36a\r\n",
      "Successfully built langdetect\r\n",
      "Installing collected packages: langdetect\r\n",
      "Successfully installed langdetect-1.0.9\r\n",
      "Note: you may need to restart the kernel to use updated packages.\n"
     ]
    }
   ],
   "source": [
    "pip install langdetect"
   ]
  },
  {
   "cell_type": "code",
   "execution_count": 3,
   "id": "biblical-passport",
   "metadata": {
    "execution": {
     "iopub.execute_input": "2021-05-31T01:06:57.023125Z",
     "iopub.status.busy": "2021-05-31T01:06:57.022448Z",
     "iopub.status.idle": "2021-05-31T01:07:03.937299Z",
     "shell.execute_reply": "2021-05-31T01:07:03.936752Z",
     "shell.execute_reply.started": "2021-05-31T00:43:19.284674Z"
    },
    "papermill": {
     "duration": 6.937913,
     "end_time": "2021-05-31T01:07:03.937446",
     "exception": false,
     "start_time": "2021-05-31T01:06:56.999533",
     "status": "completed"
    },
    "tags": []
   },
   "outputs": [
    {
     "name": "stdout",
     "output_type": "stream",
     "text": [
      "Collecting google_trans_new\r\n",
      "  Downloading google_trans_new-1.1.9-py3-none-any.whl (9.2 kB)\r\n",
      "Installing collected packages: google-trans-new\r\n",
      "Successfully installed google-trans-new-1.1.9\r\n",
      "Note: you may need to restart the kernel to use updated packages.\n"
     ]
    }
   ],
   "source": [
    "pip install google_trans_new"
   ]
  },
  {
   "cell_type": "code",
   "execution_count": 4,
   "id": "appropriate-digest",
   "metadata": {
    "execution": {
     "iopub.execute_input": "2021-05-31T01:07:03.975076Z",
     "iopub.status.busy": "2021-05-31T01:07:03.974346Z",
     "iopub.status.idle": "2021-05-31T01:07:04.545105Z",
     "shell.execute_reply": "2021-05-31T01:07:04.544538Z",
     "shell.execute_reply.started": "2021-05-31T00:38:11.513587Z"
    },
    "papermill": {
     "duration": 0.59156,
     "end_time": "2021-05-31T01:07:04.545253",
     "exception": false,
     "start_time": "2021-05-31T01:07:03.953693",
     "status": "completed"
    },
    "tags": []
   },
   "outputs": [
    {
     "name": "stdout",
     "output_type": "stream",
     "text": [
      "sw\n"
     ]
    }
   ],
   "source": [
    "#This is a test to check if the lib is working or not\n",
    "from langdetect import detect\n",
    "\n",
    "sentence = \"Tanzania ni nchi inayoongoza kwa utalii barani afrika\"\n",
    "\n",
    "print(detect(sentence))"
   ]
  },
  {
   "cell_type": "code",
   "execution_count": 5,
   "id": "primary-ukraine",
   "metadata": {
    "execution": {
     "iopub.execute_input": "2021-05-31T01:07:04.582715Z",
     "iopub.status.busy": "2021-05-31T01:07:04.581719Z",
     "iopub.status.idle": "2021-05-31T01:07:04.584818Z",
     "shell.execute_reply": "2021-05-31T01:07:04.584306Z",
     "shell.execute_reply.started": "2021-05-31T00:41:10.581915Z"
    },
    "papermill": {
     "duration": 0.023549,
     "end_time": "2021-05-31T01:07:04.584958",
     "exception": false,
     "start_time": "2021-05-31T01:07:04.561409",
     "status": "completed"
    },
    "tags": []
   },
   "outputs": [],
   "source": [
    "# it should be noted that the lib. is not deterministic meaning if the dataset is too long or too short then the results will vary every iteration,to ensure this\n",
    "#dosent happen run the follwoing code before unning the primary code:-\n",
    "#from langdetect import DetectorFactory\n",
    "#DetectorFactory.seed = 0"
   ]
  },
  {
   "cell_type": "code",
   "execution_count": 6,
   "id": "advance-blond",
   "metadata": {
    "execution": {
     "iopub.execute_input": "2021-05-31T01:07:04.627027Z",
     "iopub.status.busy": "2021-05-31T01:07:04.626190Z",
     "iopub.status.idle": "2021-05-31T01:07:04.629547Z",
     "shell.execute_reply": "2021-05-31T01:07:04.630252Z",
     "shell.execute_reply.started": "2021-05-31T00:42:30.967859Z"
    },
    "papermill": {
     "duration": 0.028992,
     "end_time": "2021-05-31T01:07:04.630475",
     "exception": false,
     "start_time": "2021-05-31T01:07:04.601483",
     "status": "completed"
    },
    "tags": []
   },
   "outputs": [
    {
     "name": "stdout",
     "output_type": "stream",
     "text": [
      "[sw:0.9999993164768655]\n"
     ]
    }
   ],
   "source": [
    "#the probabity of detection can also be found using the folllwoing code\n",
    "from langdetect import detect_langs\n",
    "\n",
    "sentence = \"Tanzania ni nchi inayoongoza kwa utalii barani afrika\"\n",
    "\n",
    "print(detect_langs(sentence))"
   ]
  },
  {
   "cell_type": "code",
   "execution_count": 7,
   "id": "important-accommodation",
   "metadata": {
    "execution": {
     "iopub.execute_input": "2021-05-31T01:07:04.669692Z",
     "iopub.status.busy": "2021-05-31T01:07:04.668776Z",
     "iopub.status.idle": "2021-05-31T01:07:04.671965Z",
     "shell.execute_reply": "2021-05-31T01:07:04.671463Z",
     "shell.execute_reply.started": "2021-05-31T00:45:47.219355Z"
    },
    "papermill": {
     "duration": 0.023744,
     "end_time": "2021-05-31T01:07:04.672105",
     "exception": false,
     "start_time": "2021-05-31T01:07:04.648361",
     "status": "completed"
    },
    "tags": []
   },
   "outputs": [],
   "source": [
    "#To translate a text from one language to another, you have to import the google_translator class from google_trans_new module.\n",
    "#Then you have to create an object of the #google_translator class and finally pass the text as a parameter to the translate method and specify the target language by\n",
    "#using lang_tgt parameter e.g lang_tgt=”en”."
   ]
  },
  {
   "cell_type": "code",
   "execution_count": 8,
   "id": "touched-continent",
   "metadata": {
    "execution": {
     "iopub.execute_input": "2021-05-31T01:07:04.710380Z",
     "iopub.status.busy": "2021-05-31T01:07:04.709698Z",
     "iopub.status.idle": "2021-05-31T01:07:04.949219Z",
     "shell.execute_reply": "2021-05-31T01:07:04.948557Z",
     "shell.execute_reply.started": "2021-05-31T00:56:31.019802Z"
    },
    "papermill": {
     "duration": 0.260724,
     "end_time": "2021-05-31T01:07:04.949362",
     "exception": false,
     "start_time": "2021-05-31T01:07:04.688638",
     "status": "completed"
    },
    "tags": []
   },
   "outputs": [
    {
     "name": "stdout",
     "output_type": "stream",
     "text": [
      "Tanzania is a leading country for tourism in Africa \n"
     ]
    }
   ],
   "source": [
    "from google_trans_new import google_translator\n",
    "\n",
    "translator = google_translator()\n",
    "\n",
    "sentence = \"Tanzania ni nchi inayoongoza kwa utalii barani afrika\"\n",
    "translate_text = translator.translate(sentence,lang_tgt='en') \n",
    "\n",
    "print(translate_text)"
   ]
  },
  {
   "cell_type": "code",
   "execution_count": 9,
   "id": "taken-charleston",
   "metadata": {
    "execution": {
     "iopub.execute_input": "2021-05-31T01:07:04.990034Z",
     "iopub.status.busy": "2021-05-31T01:07:04.989318Z",
     "iopub.status.idle": "2021-05-31T01:07:05.042798Z",
     "shell.execute_reply": "2021-05-31T01:07:05.042076Z",
     "shell.execute_reply.started": "2021-05-31T01:03:39.194089Z"
    },
    "papermill": {
     "duration": 0.076475,
     "end_time": "2021-05-31T01:07:05.043007",
     "exception": false,
     "start_time": "2021-05-31T01:07:04.966532",
     "status": "completed"
    },
    "tags": []
   },
   "outputs": [
    {
     "ename": "StdinNotImplementedError",
     "evalue": "raw_input was called, but this frontend does not support input requests.",
     "output_type": "error",
     "traceback": [
      "\u001b[0;31m---------------------------------------------------------------------------\u001b[0m",
      "\u001b[0;31mStdinNotImplementedError\u001b[0m                  Traceback (most recent call last)",
      "\u001b[0;32m<ipython-input-9-a96539fd285d>\u001b[0m in \u001b[0;36m<module>\u001b[0;34m\u001b[0m\n\u001b[1;32m      1\u001b[0m \u001b[0;31m#combining both\u001b[0m\u001b[0;34m\u001b[0m\u001b[0;34m\u001b[0m\u001b[0;34m\u001b[0m\u001b[0m\n\u001b[1;32m      2\u001b[0m \u001b[0;32mfrom\u001b[0m \u001b[0mlangdetect\u001b[0m \u001b[0;32mimport\u001b[0m \u001b[0mdetect\u001b[0m\u001b[0;34m\u001b[0m\u001b[0;34m\u001b[0m\u001b[0m\n\u001b[0;32m----> 3\u001b[0;31m \u001b[0msentence\u001b[0m \u001b[0;34m=\u001b[0m \u001b[0minput\u001b[0m\u001b[0;34m(\u001b[0m\u001b[0;34m\"\"\u001b[0m\u001b[0;34m)\u001b[0m\u001b[0;34m\u001b[0m\u001b[0;34m\u001b[0m\u001b[0m\n\u001b[0m\u001b[1;32m      4\u001b[0m \u001b[0mtrgt\u001b[0m\u001b[0;34m=\u001b[0m\u001b[0minput\u001b[0m\u001b[0;34m(\u001b[0m\u001b[0;34m\"\"\u001b[0m\u001b[0;34m)\u001b[0m\u001b[0;34m\u001b[0m\u001b[0;34m\u001b[0m\u001b[0m\n\u001b[1;32m      5\u001b[0m \u001b[0mtxt\u001b[0m\u001b[0;34m=\u001b[0m\u001b[0mdetect\u001b[0m\u001b[0;34m(\u001b[0m\u001b[0msentence\u001b[0m\u001b[0;34m)\u001b[0m\u001b[0;34m\u001b[0m\u001b[0;34m\u001b[0m\u001b[0m\n",
      "\u001b[0;32m/opt/conda/lib/python3.7/site-packages/ipykernel/kernelbase.py\u001b[0m in \u001b[0;36mraw_input\u001b[0;34m(self, prompt)\u001b[0m\n\u001b[1;32m    853\u001b[0m         \u001b[0;32mif\u001b[0m \u001b[0;32mnot\u001b[0m \u001b[0mself\u001b[0m\u001b[0;34m.\u001b[0m\u001b[0m_allow_stdin\u001b[0m\u001b[0;34m:\u001b[0m\u001b[0;34m\u001b[0m\u001b[0;34m\u001b[0m\u001b[0m\n\u001b[1;32m    854\u001b[0m             raise StdinNotImplementedError(\n\u001b[0;32m--> 855\u001b[0;31m                 \u001b[0;34m\"raw_input was called, but this frontend does not support input requests.\"\u001b[0m\u001b[0;34m\u001b[0m\u001b[0;34m\u001b[0m\u001b[0m\n\u001b[0m\u001b[1;32m    856\u001b[0m             )\n\u001b[1;32m    857\u001b[0m         return self._input_request(str(prompt),\n",
      "\u001b[0;31mStdinNotImplementedError\u001b[0m: raw_input was called, but this frontend does not support input requests."
     ]
    }
   ],
   "source": [
    "#combining both\n",
    "from langdetect import detect\n",
    "sentence = input(\"\")\n",
    "trgt=input(\"\")\n",
    "txt=detect(sentence)\n",
    "from google_trans_new import google_translator\n",
    "if txt == trgt:\n",
    "    print (txt)\n",
    "else:\n",
    "    translator = google_translator()\n",
    "    translate_text = translator.translate(sentence,lang_tgt=trgt) \n",
    "    print(translate_text)"
   ]
  }
 ],
 "metadata": {
  "kernelspec": {
   "display_name": "Python 3",
   "language": "python",
   "name": "python3"
  },
  "language_info": {
   "codemirror_mode": {
    "name": "ipython",
    "version": 3
   },
   "file_extension": ".py",
   "mimetype": "text/x-python",
   "name": "python",
   "nbconvert_exporter": "python",
   "pygments_lexer": "ipython3",
   "version": "3.7.9"
  },
  "papermill": {
   "default_parameters": {},
   "duration": 26.144426,
   "end_time": "2021-05-31T01:07:05.872150",
   "environment_variables": {},
   "exception": null,
   "input_path": "__notebook__.ipynb",
   "output_path": "__notebook__.ipynb",
   "parameters": {},
   "start_time": "2021-05-31T01:06:39.727724",
   "version": "2.3.2"
  }
 },
 "nbformat": 4,
 "nbformat_minor": 5
}
